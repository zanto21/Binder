{
 "cells": [
  {
   "cell_type": "code",
   "execution_count": 1,
   "id": "319fd1ff-7f42-4227-ad8e-ef8c3f47bc0e",
   "metadata": {
    "tags": []
   },
   "outputs": [
    {
     "name": "stdout",
     "output_type": "stream",
     "text": [
      "true"
     ]
    }
   ],
   "source": [
    "assertz(collection_name(ros_tf)),\n",
    "assertz(collection_name(triples)),\n",
    "assertz(collection_name(annotations)),\n",
    "assertz(collection_name(inferred)).\n",
    "% NEEM laden\n",
    "knowrob_load_neem('62d5729bb3869a9a9c942f24').\n",
    "\n",
    "\n",
    "\n",
    "\n"
   ]
  },
  {
   "cell_type": "code",
   "execution_count": 1,
   "id": "d64a5b76-e1ff-428f-ad6f-fd3ceace8397",
   "metadata": {
    "tags": []
   },
   "outputs": [
    {
     "ename": "Prolog Error",
     "evalue": "Prolog query failed",
     "output_type": "error",
     "traceback": [
      "Prolog query failed: mng_error(bson(BSON iteration prematurely stopped.))"
     ]
    }
   ],
   "source": [
    "% Abfrage testen\n",
    "triple(Tsk, rdf:type, dul:'Action')."
   ]
  },
  {
   "cell_type": "code",
   "execution_count": 1,
   "id": "711b4d5a-bee1-4da6-9ebf-9ebfc343f074",
   "metadata": {
    "tags": []
   },
   "outputs": [
    {
     "name": "stdout",
     "output_type": "stream",
     "text": [
      "Begin: _,\n",
      "Duration: _,\n",
      "Durations: [[281.05213141441345, 'dul:Action_WLYMHQIN'], [172.5430772304535, 'dul:Action_SEHMBYCU'], [193.96092772483826, 'dul:Action_YGCTHMRL'], [314.4922320842743, 'dul:Action_QEDYLTWR']],\n",
      "End: _,\n",
      "Evt: _,\n",
      "MinDuration: 172.5430772304535,\n",
      "ShortestEvent: dul:Action_SEHMBYCU,\n",
      "Tsk: _"
     ]
    }
   ],
   "source": [
    "findall([Duration, Evt],\n",
    "  (  event_interval(Evt, Begin, End),\n",
    "     triple(Evt, dul:'executesTask', Tsk),\n",
    "     triple(Tsk, rdf:type, soma:'Transporting'),\n",
    "     number(End),\n",
    "     Duration is End - Begin\n",
    "  ),\n",
    "  Durations),\n",
    "min_member([MinDuration, ShortestEvent], Durations).\n",
    "\n"
   ]
  },
  {
   "cell_type": "code",
   "execution_count": null,
   "id": "90a9dab5-2a11-4858-bdef-51071333e09e",
   "metadata": {
    "tags": []
   },
   "outputs": [],
   "source": [
    "\n"
   ]
  },
  {
   "cell_type": "code",
   "execution_count": 1,
   "id": "17361b6f-026d-4ad4-8260-ddad59a09587",
   "metadata": {
    "tags": []
   },
   "outputs": [
    {
     "name": "stdout",
     "output_type": "stream",
     "text": [
      "false"
     ]
    }
   ],
   "source": [
    "triple(dul:'Action_RWETPSHC', dul:'executesTask', soma:'Fetching_BGQWXJTM')"
   ]
  },
  {
   "cell_type": "code",
   "execution_count": null,
   "id": "2207a8fa-dc83-418b-bf0e-ef048ab54bd3",
   "metadata": {
    "tags": []
   },
   "outputs": [],
   "source": []
  }
 ],
 "metadata": {
  "kernelspec": {
   "display_name": "KnowRob",
   "language": "",
   "name": "jknowrob"
  },
  "language_info": {
   "mimetype": "text/plain",
   "name": "swipl"
  }
 },
 "nbformat": 4,
 "nbformat_minor": 5
}
