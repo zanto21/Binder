{
 "cells": [
  {
   "cell_type": "markdown",
   "id": "5c2fc50f-08d4-4c5f-9d1e-5bb58ee995e9",
   "metadata": {},
   "source": [
    "# Loading NEEM Data\n",
    "\n",
    "First we will load the neem data. For this we have to define the collections we want to import:"
   ]
  },
  {
   "cell_type": "code",
   "execution_count": 1,
   "id": "d64ba35f-d493-4763-a9a1-d718eb5dc15c",
   "metadata": {
    "execution": {
     "iopub.execute_input": "2025-06-06T09:27:18.208888Z",
     "iopub.status.busy": "2025-06-06T09:27:18.208548Z",
     "iopub.status.idle": "2025-06-06T09:27:18.228855Z",
     "shell.execute_reply": "2025-06-06T09:27:18.227628Z",
     "shell.execute_reply.started": "2025-06-06T09:27:18.208855Z"
    }
   },
   "outputs": [
    {
     "name": "stdout",
     "output_type": "stream",
     "text": [
      "true"
     ]
    }
   ],
   "source": [
    "assertz(collection_name(ros_tf)),\n",
    "assertz(collection_name(triples)),\n",
    "assertz(collection_name(annotations)),\n",
    "assertz(collection_name(inferred))."
   ]
  },
  {
   "cell_type": "markdown",
   "id": "cacb0aad-4e23-47f6-9e59-5f8b942a4ccb",
   "metadata": {},
   "source": [
    "Now load the NEEM by running the following command:"
   ]
  },
  {
   "cell_type": "code",
   "execution_count": 1,
   "id": "7325ae78-4f0a-4cfb-9405-df1f990c099c",
   "metadata": {
    "execution": {
     "iopub.execute_input": "2025-06-06T09:27:18.231404Z",
     "iopub.status.busy": "2025-06-06T09:27:18.230979Z",
     "iopub.status.idle": "2025-06-06T09:27:18.418783Z",
     "shell.execute_reply": "2025-06-06T09:27:18.418169Z",
     "shell.execute_reply.started": "2025-06-06T09:27:18.231367Z"
    }
   },
   "outputs": [
    {
     "name": "stdout",
     "output_type": "stream",
     "text": [
      "false"
     ]
    }
   ],
   "source": [
    "collection_name(Name),\n",
    "mng_get_db(DB, Collection, Name),\n",
    "path_concat('/neem_data', Collection, Dir0),\n",
    "mng_restore(DB, Dir0)."
   ]
  },
  {
   "cell_type": "markdown",
   "id": "709281e5-822f-468c-91f5-6d83667f5f88",
   "metadata": {},
   "source": [
    "Important: Always wait till the commands finish and return the solutions."
   ]
  }
 ],
 "metadata": {
  "kernelspec": {
   "display_name": "KnowRob",
   "language": "",
   "name": "jknowrob"
  },
  "language_info": {
   "mimetype": "text/plain",
   "name": "swipl"
  }
 },
 "nbformat": 4,
 "nbformat_minor": 5
}
