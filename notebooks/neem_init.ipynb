{
 "cells": [
  {
   "cell_type": "markdown",
   "id": "5c2fc50f-08d4-4c5f-9d1e-5bb58ee995e9",
   "metadata": {},
   "source": [
    "# Loading NEEM Data\n"
   ]
  },
  {
   "cell_type": "markdown",
   "id": "f3b62f04-99c0-43b3-bfcc-9077c2ec1a6a",
   "metadata": {},
   "source": [
    "Beispiel NEEMS: \\\n",
    "62d5729bb3869a9a9c942f24 \\\n",
    "630614f0ff954448f792b2c3 \\\n",
    "5fd0f191f3fc822d8e73d715\n",
    "\n",
    "from next import launch\n",
    "launch()\n",
    "from nexty import * "
   ]
  },
  {
   "cell_type": "code",
   "execution_count": 1,
   "id": "eadf576d-34b6-4967-b04a-5671f868427f",
   "metadata": {},
   "outputs": [
    {
     "data": {
      "application/vnd.jupyter.widget-view+json": {
       "model_id": "fc43f43fb3714086817fbeb497f8b75e",
       "version_major": 2,
       "version_minor": 0
      },
      "text/plain": [
       "VBox(children=(Text(value='62d5729bb3869a9a9c942f24', description='NEEM-ID:'), Button(button_style='info', des…"
      ]
     },
     "metadata": {},
     "output_type": "display_data"
    }
   ],
   "source": [
    "%run next.py\n"
   ]
  },
  {
   "cell_type": "code",
   "execution_count": 2,
   "id": "d64ba35f-d493-4763-a9a1-d718eb5dc15c",
   "metadata": {
    "scrolled": true
   },
   "outputs": [
    {
     "data": {
      "application/vnd.jupyter.widget-view+json": {
       "model_id": "19e10130b1954cb48531b4a69650d159",
       "version_major": 2,
       "version_minor": 0
      },
      "text/plain": [
       "VBox(children=(Label(value='Schritt 1: ROS-System starten (falls noch nicht geschehen)'), Button(button_style=…"
      ]
     },
     "metadata": {},
     "output_type": "display_data"
    }
   ],
   "source": [
    "from nexty import launch_ui\n",
    "launch_ui()"
   ]
  },
  {
   "cell_type": "markdown",
   "id": "cacb0aad-4e23-47f6-9e59-5f8b942a4ccb",
   "metadata": {},
   "source": [
    "Now run the Query by running the following command:"
   ]
  },
  {
   "cell_type": "code",
   "execution_count": 3,
   "id": "7325ae78-4f0a-4cfb-9405-df1f990c099c",
   "metadata": {},
   "outputs": [
    {
     "ename": "SyntaxError",
     "evalue": "invalid syntax (2469582056.py, line 1)",
     "output_type": "error",
     "traceback": [
      "\u001b[0;36m  Cell \u001b[0;32mIn [3], line 1\u001b[0;36m\u001b[0m\n\u001b[0;31m    triple(Tsk, rdf:type, dul:'Action').\u001b[0m\n\u001b[0m                   ^\u001b[0m\n\u001b[0;31mSyntaxError\u001b[0m\u001b[0;31m:\u001b[0m invalid syntax\n"
     ]
    }
   ],
   "source": [
    "triple(Tsk, rdf:type, dul:'Action').\n",
    "triple(X,Y,Z).\n",
    "holds(A,P,O).\n",
    "owl_individual_of(I, Class)."
   ]
  },
  {
   "cell_type": "markdown",
   "id": "709281e5-822f-468c-91f5-6d83667f5f88",
   "metadata": {},
   "source": [
    "Important: Always wait till the commands finish and return the solutions."
   ]
  },
  {
   "cell_type": "code",
   "execution_count": null,
   "id": "d4496422-c0b5-40a0-b1bf-2d52234488a2",
   "metadata": {},
   "outputs": [],
   "source": []
  }
 ],
 "metadata": {
  "kernelspec": {
   "display_name": "Python 3 (ipykernel)",
   "language": "python",
   "name": "python3"
  },
  "language_info": {
   "codemirror_mode": {
    "name": "ipython",
    "version": 3
   },
   "file_extension": ".py",
   "mimetype": "text/x-python",
   "name": "python",
   "nbconvert_exporter": "python",
   "pygments_lexer": "ipython3",
   "version": "3.10.6"
  }
 },
 "nbformat": 4,
 "nbformat_minor": 5
}
