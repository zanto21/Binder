{
 "cells": [
  {
   "cell_type": "markdown",
   "id": "5c2fc50f-08d4-4c5f-9d1e-5bb58ee995e9",
   "metadata": {},
   "source": [
    "# Loading NEEM Data\n",
    "\n",
    "First we will load the neem data. For this we have to define the collections we want to import:"
   ]
  },
  {
   "cell_type": "code",
   "execution_count": null,
   "id": "d64ba35f-d493-4763-a9a1-d718eb5dc15c",
   "metadata": {},
   "outputs": [],
   "source": [
    "assertz(collection_name(ros_tf)),\n",
    "assertz(collection_name(triples)),\n",
    "assertz(collection_name(annotations)),\n",
    "assertz(collection_name(inferred))."
   ]
  },
  {
   "cell_type": "markdown",
   "id": "cacb0aad-4e23-47f6-9e59-5f8b942a4ccb",
   "metadata": {},
   "source": [
    "Now load the NEEM by running the following command:"
   ]
  },
  {
   "cell_type": "code",
   "execution_count": null,
   "id": "7325ae78-4f0a-4cfb-9405-df1f990c099c",
   "metadata": {},
   "outputs": [],
   "source": [
    "collection_name(Name),\n",
    "mng_get_db(DB, Collection, Name),\n",
    "path_concat('/neem_data', Collection, Dir0),\n",
    "mng_restore(DB, Dir0)."
   ]
  },
  {
   "cell_type": "markdown",
   "id": "709281e5-822f-468c-91f5-6d83667f5f88",
   "metadata": {},
   "source": [
    "Important: Always wait till the commands finish and return the solutions."
   ]
  }
 ],
 "metadata": {
  "kernelspec": {
   "display_name": "KnowRob",
   "language": "",
   "name": "jknowrob"
  },
  "language_info": {
   "mimetype": "text/plain",
   "name": "swipl"
  }
 },
 "nbformat": 4,
 "nbformat_minor": 5
}
