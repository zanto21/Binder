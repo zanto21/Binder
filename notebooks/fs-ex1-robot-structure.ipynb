{
 "cells": [
  {
   "cell_type": "markdown",
   "id": "216787ba-43cd-4c25-a21e-4a068fc47ce2",
   "metadata": {},
   "source": [
    "# Robot Structure\n",
    "\n",
    "In the first part of this exercise you will define relationships that are implemented via reasoning about the symbolic representation of the robot. \n",
    "\n",
    "1. Write the predicate robotPart(*Robot*, *Part*, *PartType*) where *Part* is reachable by *Robot* through the transitive closure of the parthood relationship *dul:'hasPart'*, and *PartType* is a type of *Part*, and a subclass of *dul:'PhysicalObject'*. Tip: The type of an object can be obtained by *rdf:type*, and its subclasses by *rdfs:subClassOf*.\n",
    "\n",
    "To write the predicate you can modify the Prolog Module file in *prolog/exercise1.pl*. After every change you have to reload the file by executing the following command:"
   ]
  },
  {
   "cell_type": "code",
   "execution_count": 1,
   "id": "a93a8895-7d9b-4221-a2cf-bc5e7e977b82",
   "metadata": {
    "execution": {
     "iopub.execute_input": "2025-01-08T12:53:05.392986Z",
     "iopub.status.busy": "2025-01-08T12:53:05.392726Z",
     "iopub.status.idle": "2025-01-08T12:53:05.844311Z",
     "shell.execute_reply": "2025-01-08T12:53:05.843180Z",
     "shell.execute_reply.started": "2025-01-08T12:53:05.392956Z"
    },
    "tags": []
   },
   "outputs": [
    {
     "ename": "NameError",
     "evalue": "name 'cloud_consult' is not defined",
     "output_type": "error",
     "traceback": [
      "\u001b[0;31m---------------------------------------------------------------------------\u001b[0m",
      "\u001b[0;31mNameError\u001b[0m                                 Traceback (most recent call last)",
      "Cell \u001b[0;32mIn [1], line 1\u001b[0m\n\u001b[0;32m----> 1\u001b[0m \u001b[43mcloud_consult\u001b[49m(\u001b[38;5;124m'\u001b[39m\u001b[38;5;124m/prolog/exercise1.pl\u001b[39m\u001b[38;5;124m'\u001b[39m)\n",
      "\u001b[0;31mNameError\u001b[0m: name 'cloud_consult' is not defined"
     ]
    }
   ],
   "source": [
    "cloud_consult('/prolog/exercise1.pl')"
   ]
  },
  {
   "cell_type": "markdown",
   "id": "0d2bc605-bea0-426f-9f91-2bae31aac454",
   "metadata": {},
   "source": [
    "You can test your predicaate with the following call:"
   ]
  },
  {
   "cell_type": "code",
   "execution_count": null,
   "id": "434fac54-1411-4890-89bc-021cf297e5c9",
   "metadata": {
    "execution": {
     "iopub.status.busy": "2025-01-08T12:53:05.845058Z",
     "iopub.status.idle": "2025-01-08T12:53:05.845356Z",
     "shell.execute_reply": "2025-01-08T12:53:05.845212Z",
     "shell.execute_reply.started": "2025-01-08T12:53:05.845199Z"
    }
   },
   "outputs": [],
   "source": [
    "robotPart('http://knowrob.org/kb/PR2.owl#PR2_0', PartType, Part)."
   ]
  },
  {
   "cell_type": "markdown",
   "id": "2f15b499-e439-4eef-a17c-526218d5b335",
   "metadata": {},
   "source": [
    "2. Write a query that answers the following questions:(1) What are the reference frames associated to the base link of arms of the PR2 robot, and (2) how are the arms positioned relative to the base of the robot?\n",
    "Tips: The PR2 robot is identified by *'http://knowrob.org/kb/PR2.owl#PR2_0'*, the type of arm components is *soma:'Arm'*, and their base link reference frame can be obtained through their property *urdf:hasBaseLinkName*. The base of the robot is of type 'http://knowrob.org/kb/knowrob.owl#MobileBase'*, the arms of the type 'http://www.ease-crc.org/ont/SOMA.owl#Arm'.\n",
    "The position of an object **O** can be obtained via the 2-ary predicate *tf:tf_get_pose*, written as *tf:tf_get_pose(O,[F,Position,_])*, where the position of **O** is expressed relative to the reference frame **F**."
   ]
  },
  {
   "cell_type": "code",
   "execution_count": null,
   "id": "ee3de333-afab-4334-8e67-e8fb338a444b",
   "metadata": {
    "execution": {
     "iopub.status.busy": "2025-01-08T12:53:05.846320Z",
     "iopub.status.idle": "2025-01-08T12:53:05.846595Z",
     "shell.execute_reply": "2025-01-08T12:53:05.846468Z",
     "shell.execute_reply.started": "2025-01-08T12:53:05.846456Z"
    },
    "tags": []
   },
   "outputs": [],
   "source": [
    "robotPart('http://knowrob.org/kb/PR2.owl#PR2_0', Base, 'http://knowrob.org/kb/knowrob.owl#MobileBase')."
   ]
  }
 ],
 "metadata": {
  "kernelspec": {
   "display_name": "Python 3 (ipykernel)",
   "language": "python",
   "name": "python3"
  },
  "language_info": {
   "codemirror_mode": {
    "name": "ipython",
    "version": 3
   },
   "file_extension": ".py",
   "mimetype": "text/x-python",
   "name": "python",
   "nbconvert_exporter": "python",
   "pygments_lexer": "ipython3",
   "version": "3.10.6"
  }
 },
 "nbformat": 4,
 "nbformat_minor": 5
}
