{
 "cells": [
  {
   "cell_type": "markdown",
   "id": "50507466-8eab-462b-b250-3fc39928da36",
   "metadata": {},
   "source": [
    "# Getting Started with Turtlesim\n",
    "Source: http://wiki.ros.org/turtlesim\n",
    "\n",
    "The `turtlesim` is already installed and the `roscore` is already started. Therefore we can directly run turtlesim demo."
   ]
  },
  {
   "cell_type": "markdown",
   "id": "8e50fa1f-e3d4-46f9-a453-014dd04468c4",
   "metadata": {
    "execution": {
     "iopub.execute_input": "2024-03-18T14:40:11.719228Z",
     "iopub.status.busy": "2024-03-18T14:40:11.718818Z",
     "iopub.status.idle": "2024-03-18T14:40:11.724702Z",
     "shell.execute_reply": "2024-03-18T14:40:11.723839Z",
     "shell.execute_reply.started": "2024-03-18T14:40:11.719199Z"
    },
    "tags": []
   },
   "source": [
    "## Run Turlesim\n",
    "\n",
    "1. Open the `Xpra Desktop`\n",
    "1. Open a new `terminal` and execute:\n",
    "\n",
    "    ```bash\n",
    "    rosrun turtlesim turtlesim_node\n",
    "    ```\n",
    "\n",
    "\n",
    "You should see the TurtleSim window open in the Xpra Desktop"
   ]
  },
  {
   "cell_type": "markdown",
   "id": "ac109ba0-161e-4b7d-90ce-b93ee0b34883",
   "metadata": {},
   "source": [
    "## Check running ROS node\n",
    "You can also run the following commands in a new terminal."
   ]
  },
  {
   "cell_type": "code",
   "execution_count": 1,
   "id": "03da9fdb-e6c8-4b4e-97ac-4ee366486e97",
   "metadata": {
    "execution": {
     "iopub.execute_input": "2024-03-20T15:14:18.057115Z",
     "iopub.status.busy": "2024-03-20T15:14:18.055709Z",
     "iopub.status.idle": "2024-03-20T15:14:18.576470Z",
     "shell.execute_reply": "2024-03-20T15:14:18.576016Z",
     "shell.execute_reply.started": "2024-03-20T15:14:18.057059Z"
    },
    "tags": []
   },
   "outputs": [
    {
     "name": "stdout",
     "output_type": "stream",
     "text": [
      "/ros_board\n",
      "/rosapi\n",
      "/rosbridge_websocket\n",
      "/rosout\n",
      "/roswww\n",
      "/tf2_web_republisher\n",
      "/turtlesim\n"
     ]
    }
   ],
   "source": [
    "!rosnode list"
   ]
  },
  {
   "cell_type": "code",
   "execution_count": 3,
   "id": "db955fd9-04c5-455d-b75f-0cd6abce33ca",
   "metadata": {
    "execution": {
     "iopub.execute_input": "2024-03-20T15:15:25.153315Z",
     "iopub.status.busy": "2024-03-20T15:15:25.153117Z",
     "iopub.status.idle": "2024-03-20T15:15:25.618414Z",
     "shell.execute_reply": "2024-03-20T15:15:25.615540Z",
     "shell.execute_reply.started": "2024-03-20T15:15:25.153300Z"
    },
    "tags": []
   },
   "outputs": [
    {
     "name": "stdout",
     "output_type": "stream",
     "text": [
      "--------------------------------------------------------------------------------\n",
      "Node [/turtlesim]\n",
      "Publications: \n",
      " * /rosout [rosgraph_msgs/Log]\n",
      " * /turtle1/color_sensor [turtlesim/Color]\n",
      " * /turtle1/pose [turtlesim/Pose]\n",
      "\n",
      "Subscriptions: \n",
      " * /turtle1/cmd_vel [unknown type]\n",
      "\n",
      "Services: \n",
      " * /clear\n",
      " * /kill\n",
      " * /reset\n",
      " * /spawn\n",
      " * /turtle1/set_pen\n",
      " * /turtle1/teleport_absolute\n",
      " * /turtle1/teleport_relative\n",
      " * /turtlesim/get_loggers\n",
      " * /turtlesim/set_logger_level\n",
      "\n",
      "\n",
      "contacting node http://7997ef385fa2:35075/ ...\n",
      "Pid: 927\n",
      "Connections:\n",
      " * topic: /rosout\n",
      "    * to: /rosout\n",
      "    * direction: outbound (49649 - 172.20.0.2:50908) [16]\n",
      "    * transport: TCPROS\n",
      "\n"
     ]
    }
   ],
   "source": [
    "!rosnode info /turtlesim"
   ]
  },
  {
   "cell_type": "markdown",
   "id": "ecd9ac20-deb7-4e69-9fb5-66c93f6e45d9",
   "metadata": {},
   "source": [
    "## Publish ROS messages\n",
    "Publish messages to topic `/turtle1/cmd_vel` to control the turtle"
   ]
  },
  {
   "cell_type": "code",
   "execution_count": 39,
   "id": "cacbf573-23b9-41ca-b048-6c72397b4a0f",
   "metadata": {
    "execution": {
     "iopub.execute_input": "2024-03-20T15:36:17.742009Z",
     "iopub.status.busy": "2024-03-20T15:36:17.741747Z",
     "iopub.status.idle": "2024-03-20T15:36:17.744733Z",
     "shell.execute_reply": "2024-03-20T15:36:17.744365Z",
     "shell.execute_reply.started": "2024-03-20T15:36:17.741994Z"
    },
    "tags": []
   },
   "outputs": [],
   "source": [
    "from geometry_msgs.msg import Twist, Vector3\n",
    "import rospy\n",
    "rospy.init_node('turtlesim_notebook')\n",
    "\n",
    "cmd_vel_pub = rospy.Publisher('/turtle1/cmd_vel', Twist, queue_size=5)\n",
    "cmd_vel_msg = Twist()\n",
    "cmd_vel_msg.linear.x = 20\n",
    "cmd_vel_msg.angular.z = 10\n",
    "cmd_vel_pub.publish(cmd_vel_msg)"
   ]
  },
  {
   "cell_type": "markdown",
   "id": "edb3f979-3182-4879-9f5a-e08a0c379e4c",
   "metadata": {},
   "source": [
    "## GUI tools"
   ]
  },
  {
   "cell_type": "code",
   "execution_count": 6,
   "id": "55591e12-364a-44a8-a316-3c5e40666b19",
   "metadata": {
    "execution": {
     "iopub.execute_input": "2024-03-20T15:16:41.321877Z",
     "iopub.status.busy": "2024-03-20T15:16:41.321659Z",
     "iopub.status.idle": "2024-03-20T15:17:00.193280Z",
     "shell.execute_reply": "2024-03-20T15:17:00.190721Z",
     "shell.execute_reply.started": "2024-03-20T15:16:41.321862Z"
    },
    "tags": []
   },
   "outputs": [
    {
     "name": "stdout",
     "output_type": "stream",
     "text": [
      "\u001b[36mQStandardPaths: XDG_RUNTIME_DIR not set, defaulting to '/tmp/runtime-jovyan'\u001b[0m\n",
      "^C\n"
     ]
    }
   ],
   "source": [
    "!rqt"
   ]
  },
  {
   "cell_type": "code",
   "execution_count": 21,
   "id": "ead7e22f-17cc-4b2f-bc0b-d1aade0dccde",
   "metadata": {
    "execution": {
     "iopub.execute_input": "2024-03-20T15:29:20.115331Z",
     "iopub.status.busy": "2024-03-20T15:29:20.115151Z",
     "iopub.status.idle": "2024-03-20T15:30:03.537197Z",
     "shell.execute_reply": "2024-03-20T15:30:03.536786Z",
     "shell.execute_reply.started": "2024-03-20T15:29:20.115317Z"
    },
    "tags": []
   },
   "outputs": [
    {
     "name": "stdout",
     "output_type": "stream",
     "text": [
      "\u001b[36mQStandardPaths: XDG_RUNTIME_DIR not set, defaulting to '/tmp/runtime-jovyan'\u001b[0m\n",
      "^C\n"
     ]
    }
   ],
   "source": [
    "!rqt_topic"
   ]
  },
  {
   "cell_type": "code",
   "execution_count": 11,
   "id": "a416dfd4-4952-41a8-a5e7-ca0b610802df",
   "metadata": {
    "execution": {
     "iopub.execute_input": "2024-03-18T14:55:41.669562Z",
     "iopub.status.busy": "2024-03-18T14:55:41.669198Z",
     "iopub.status.idle": "2024-03-18T14:56:35.595905Z",
     "shell.execute_reply": "2024-03-18T14:56:35.594848Z",
     "shell.execute_reply.started": "2024-03-18T14:55:41.669526Z"
    },
    "tags": []
   },
   "outputs": [
    {
     "name": "stdout",
     "output_type": "stream",
     "text": [
      "\u001b[36mQStandardPaths: XDG_RUNTIME_DIR not set, defaulting to '/tmp/runtime-jovyan'\u001b[0m\n",
      "^C\n"
     ]
    }
   ],
   "source": [
    "!rqt_graph"
   ]
  }
 ],
 "metadata": {
  "kernelspec": {
   "display_name": "Python 3 (ipykernel)",
   "language": "python",
   "name": "python3"
  },
  "language_info": {
   "codemirror_mode": {
    "name": "ipython",
    "version": 3
   },
   "file_extension": ".py",
   "mimetype": "text/x-python",
   "name": "python",
   "nbconvert_exporter": "python",
   "pygments_lexer": "ipython3",
   "version": "3.10.6"
  }
 },
 "nbformat": 4,
 "nbformat_minor": 5
}
