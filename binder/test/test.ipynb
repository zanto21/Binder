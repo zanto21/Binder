{
 "cells": [
  {
   "cell_type": "markdown",
   "id": "7f41441a-d859-4371-8bad-424ac7dec893",
   "metadata": {},
   "source": [
    "Tutorial: Load Neems\n",
    "===\n",
    "\n"
   ]
  },
  {
   "cell_type": "code",
   "execution_count": 1,
   "id": "4644b109-4035-434d-aa17-dd897f44c793",
   "metadata": {
    "execution": {
     "iopub.execute_input": "2025-05-23T11:26:06.996581Z",
     "iopub.status.busy": "2025-05-23T11:26:06.996122Z",
     "iopub.status.idle": "2025-05-23T11:26:07.030878Z",
     "shell.execute_reply": "2025-05-23T11:26:07.029840Z",
     "shell.execute_reply.started": "2025-05-23T11:26:06.996550Z"
    },
    "tags": []
   },
   "outputs": [
    {
     "name": "stdout",
     "output_type": "stream",
     "text": [
      "true"
     ]
    }
   ],
   "source": [
    "knowrob_load_neem('62d5729bb3869a9a9c942f24').\n",
    "remember('/neem_data').\n",
    "triple(dul:'Action_RWETPSHC', dul:'executesTask', soma:'Fetching_BGQWXJTM').\n",
    "\n",
    "% Get all events and their durations\n",
    "findall([Duration, Evt],\n",
    "  (  event_interval(Evt, Begin, End),\n",
    "     % Ensure that the Action executes a Transporting task\n",
    "     triple(Evt, dul:'executesTask', Tsk),\n",
    "     triple(Tsk, rdf:type, soma:'Transporting'),\n",
    "     % Ensure that the end is bound to a number\n",
    "     number(End),\n",
    "     % Calculate the duration\n",
    "     Duration is End - Begin\n",
    "  ),\n",
    "  Durations),\n",
    "% Get the minimal member of the solutions\n",
    "writeln([Evt, Begin, End, Tsk, Duration]),\n",
    "\n",
    "min_member([MinDuration, ShortestEvent], Durations).\n",
    "\n",
    "% Get the executed Task\n",
    "triple(Act, dul:'executesTask', Tsk),\n",
    "% Ensure that there is a agent \n",
    "% and item during the Action\n",
    "triple(Tsk, dul:isTaskOf, ObjectRole),\n",
    "triple(ObjectRole, rdf:type, soma:'Item'),\n",
    "triple(Tsk, dul:isTaskOf, AgentRole),\n",
    "triple(AgentRole, rdf:type, soma:'AgentRole'),\n",
    "writeln([Act, Tsk, TskType]).\n",
    "% Return the type of the task\n",
    "triple(Tsk, rdf:type, TskType).\n",
    "\n",
    "triple(_, dul:'executesTask', Tsk),\n",
    "triple(Tsk, rdf:type, soma:'Transporting').\n",
    "\n"
   ]
  },
  {
   "cell_type": "code",
   "execution_count": null,
   "id": "66024f40-f400-44b7-b527-15df238a002f",
   "metadata": {
    "tags": []
   },
   "outputs": [],
   "source": []
  }
 ],
 "metadata": {
  "kernelspec": {
   "display_name": "KnowRob",
   "language": "",
   "name": "jknowrob"
  },
  "language_info": {
   "mimetype": "text/plain",
   "name": "swipl"
  }
 },
 "nbformat": 4,
 "nbformat_minor": 5
}
